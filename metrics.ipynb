{
 "cells": [
  {
   "cell_type": "code",
   "execution_count": 18,
   "metadata": {},
   "outputs": [],
   "source": [
    "import matplotlib.pyplot as plt\n",
    "import numpy as np\n",
    "from IPython.display import Image\n",
    "import os\n",
    "from PIL import Image as Img\n",
    "from sklearn import metrics\n",
    "import cv2\n",
    "import tqdm\n",
    "np.random.seed(7)"
   ]
  },
  {
   "cell_type": "code",
   "execution_count": 176,
   "metadata": {},
   "outputs": [],
   "source": [
    "def get_preds_trues_image_level(all_data, classs):\n",
    "    all_data_split = []\n",
    "    for el in all_data:\n",
    "        if classs not in el:\n",
    "            continue\n",
    "        if el[0] == \"-\":\n",
    "\n",
    "            el = el[1:].split(\"-\")\n",
    "            el[0] = \"-\" + el[0]\n",
    "\n",
    "        else:\n",
    "            el = el.split(\"-\")\n",
    "\n",
    "        all_data_split.append(el)\n",
    "\n",
    "\n",
    "    all_data_info = [(float(el[0]), el[-2] != \"good\") for el in all_data_split]\n",
    "    true = np.array([el[1] for el in all_data_info])\n",
    "    preds = np.array([el[0] for el in all_data_info])\n",
    "    return preds, true\n",
    "\n",
    "\n",
    "def get_auc(preds, true):\n",
    "    fpr, tpr, thresholds = metrics.roc_curve(true, preds)\n",
    "    # print(fpr, tpr, thresholds)\n",
    "\n",
    "    # precision, recall, thresholds_pr = metrics.precision_recall_curve(true, preds)\n",
    "    aucroc = metrics.auc(fpr, tpr)\n",
    "    return aucroc"
   ]
  },
  {
   "cell_type": "code",
   "execution_count": 177,
   "metadata": {},
   "outputs": [
    {
     "data": {
      "text/plain": [
       "{'tile': 0.6722582972582972,\n",
       " 'grid': 0.6094402673350042,\n",
       " 'leather': 0.5163043478260869,\n",
       " 'wood': 0.7333333333333334,\n",
       " 'carpet': 0.6001203852327448,\n",
       " 'bottle': 0.5384920634920635,\n",
       " 'cable': 0.5073088455772115,\n",
       " 'capsule': 0.4357798165137615,\n",
       " 'hazelnut': 0.5071428571428571,\n",
       " 'metal_nut': 0.5332355816226784,\n",
       " 'pill': 0.5005455537370431,\n",
       " 'screw': 0.5252100840336135,\n",
       " 'toothbrush': 0.5833333333333334,\n",
       " 'transistor': 0.55,\n",
       " 'zipper': 0.5126050420168067}"
      ]
     },
     "execution_count": 177,
     "metadata": {},
     "output_type": "execute_result"
    }
   ],
   "source": [
    "FOLDER = r\"diffusion-classification/reconstruction/test_data/cross-entropy10-5-threshold-5-add\"\n",
    "all_data = os.listdir(FOLDER)\n",
    "scores = {}\n",
    "classes = [\"tile\", \"grid\", \"leather\", \"wood\", \"carpet\", \"bottle\", \"cable\", \"capsule\", \"hazelnut\", \"metal_nut\", \"pill\", \"screw\", \"toothbrush\", \"transistor\", \"zipper\"]\n",
    "for classs in classes:\n",
    "    aucroc = get_auc(*get_preds_trues_image_level(all_data, classs))\n",
    "    scores[classs] = aucroc\n",
    "scores"
   ]
  },
  {
   "cell_type": "code",
   "execution_count": 21,
   "metadata": {},
   "outputs": [
    {
     "data": {
      "text/plain": [
       "0.9825"
      ]
     },
     "execution_count": 21,
     "metadata": {},
     "output_type": "execute_result"
    }
   ],
   "source": [
    "np.mean(list(scores.values()))"
   ]
  },
  {
   "cell_type": "code",
   "execution_count": 120,
   "metadata": {},
   "outputs": [],
   "source": [
    "MASK_FOLDER = r\"diffusion-segmentation\\test_data_masks\"\n",
    "PREDS_FOLDER = r\"diffusion-l1-unconditional\\capsule\\anomaly_maps\\without-reconstructed-30-1-threshold-0-new\""
   ]
  },
  {
   "cell_type": "code",
   "execution_count": 121,
   "metadata": {},
   "outputs": [],
   "source": [
    "all_data = os.listdir(PREDS_FOLDER)"
   ]
  },
  {
   "cell_type": "code",
   "execution_count": 108,
   "metadata": {},
   "outputs": [],
   "source": [
    "import warnings\n",
    "warnings.filterwarnings(\"ignore\")\n",
    "\n",
    "def get_true_preds_pixel_level(all_data, classs):\n",
    "    preds = []\n",
    "    true = []\n",
    "    preds_paths = all_data\n",
    "    masks_paths = os.listdir(MASK_FOLDER)\n",
    "    set_masks_path = set(masks_paths)\n",
    "    for pred_path in tqdm.tqdm(preds_paths):\n",
    "        if classs not in pred_path:\n",
    "            continue\n",
    "\n",
    "        striped_path = \"-\".join(pred_path.strip(\"-\").split(\"-\")[1:])\n",
    "        pred_mask = (cv2.imread(os.path.join(PREDS_FOLDER, pred_path), cv2.IMREAD_GRAYSCALE) / 255)\n",
    "        if striped_path in set_masks_path:\n",
    "            gt_mask = (cv2.resize(cv2.imread(os.path.join(MASK_FOLDER, striped_path), cv2.IMREAD_GRAYSCALE), (256, 256)) / 255).astype(int)\n",
    "        else:\n",
    "            gt_mask = np.zeros(pred_mask.shape).astype(int)\n",
    "\n",
    "\n",
    "\n",
    "        preds.extend(pred_mask.reshape(-1))\n",
    "        true.extend(gt_mask.reshape(-1))\n",
    "\n",
    "    return preds, true"
   ]
  },
  {
   "cell_type": "code",
   "execution_count": 123,
   "metadata": {},
   "outputs": [
    {
     "name": "stderr",
     "output_type": "stream",
     "text": [
      "100%|██████████| 132/132 [00:07<00:00, 16.85it/s]\n"
     ]
    },
    {
     "data": {
      "text/plain": [
       "{'capsule': 0.5948917875808059}"
      ]
     },
     "execution_count": 123,
     "metadata": {},
     "output_type": "execute_result"
    }
   ],
   "source": [
    "all_data = os.listdir(PREDS_FOLDER)\n",
    "scores = {}\n",
    "classes = [\"tile\", \"grid\", \"leather\", \"wood\", \"carpet\", \"bottle\", \"cable\", \"capsule\", \"hazelnut\", \"metal_nut\", \"pill\", \"screw\", \"toothbrush\", \"transistor\", \"zipper\"]\n",
    "for classs in [\"capsule\"]:\n",
    "    aucroc = get_auc(*get_true_preds_pixel_level(all_data, classs))\n",
    "    scores[classs] = aucroc\n",
    "scores"
   ]
  },
  {
   "cell_type": "code",
   "execution_count": 86,
   "metadata": {},
   "outputs": [
    {
     "data": {
      "text/plain": [
       "0.8276390361047128"
      ]
     },
     "execution_count": 86,
     "metadata": {},
     "output_type": "execute_result"
    }
   ],
   "source": [
    "np.mean(list(scores.values()))"
   ]
  }
 ],
 "metadata": {
  "kernelspec": {
   "display_name": "example",
   "language": "python",
   "name": "python3"
  },
  "language_info": {
   "codemirror_mode": {
    "name": "ipython",
    "version": 3
   },
   "file_extension": ".py",
   "mimetype": "text/x-python",
   "name": "python",
   "nbconvert_exporter": "python",
   "pygments_lexer": "ipython3",
   "version": "3.8.16"
  },
  "orig_nbformat": 4
 },
 "nbformat": 4,
 "nbformat_minor": 2
}
